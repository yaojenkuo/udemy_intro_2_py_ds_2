{
 "cells": [
  {
   "cell_type": "markdown",
   "metadata": {},
   "source": [
    "# 基礎編程\n",
    "\n",
    "- 賦值、印出與註解\n",
    "- 變數類型\n",
    "- 資料結構\n",
    "- 流程控制\n",
    "- 迴圈\n",
    "- 自訂函數"
   ]
  },
  {
   "cell_type": "markdown",
   "metadata": {},
   "source": [
    "### 賦值、印出與註解"
   ]
  },
  {
   "cell_type": "code",
   "execution_count": null,
   "metadata": {
    "collapsed": false
   },
   "outputs": [],
   "source": [
    "# 單行註解\n",
    "'''\n",
    "多行的\n",
    "註解\n",
    "'''\n",
    "my_name = \"Tony Kuo\"\n",
    "print(my_name)"
   ]
  },
  {
   "cell_type": "markdown",
   "metadata": {},
   "source": [
    "## 變數類型\n",
    "\n",
    "- int\n",
    "- float\n",
    "- complex\n",
    "- bool\n",
    "- str"
   ]
  },
  {
   "cell_type": "markdown",
   "metadata": {},
   "source": [
    "### int、float 與 complex"
   ]
  },
  {
   "cell_type": "code",
   "execution_count": null,
   "metadata": {
    "collapsed": false
   },
   "outputs": [],
   "source": [
    "my_int = 87\n",
    "my_float = 8.7\n",
    "my_complex = 8 + 7j\n",
    "\n",
    "print(type(my_int))\n",
    "print(type(my_float))\n",
    "print(type(my_complex))"
   ]
  },
  {
   "cell_type": "markdown",
   "metadata": {},
   "source": [
    "### 運算符號\n",
    "\n",
    "|運算符號|意義|\n",
    "|----------|---|\n",
    "|`+`|加法|\n",
    "|`-`|減法|\n",
    "|`*`|乘法|\n",
    "|`/`|除法|\n",
    "|`**`|次方|\n",
    "|`%`|回傳除法結果的餘數部分|\n",
    "|`//`|回傳除法結果的整數部分|"
   ]
  },
  {
   "cell_type": "code",
   "execution_count": null,
   "metadata": {
    "collapsed": false
   },
   "outputs": [],
   "source": [
    "print(8 + 7)\n",
    "print(8 - 7)\n",
    "print(8 * 7)\n",
    "print(8 / 7)\n",
    "print(8**2)\n",
    "print(87 % 2)\n",
    "print(87 // 2)"
   ]
  },
  {
   "cell_type": "markdown",
   "metadata": {},
   "source": [
    "### bool 與判斷符號\n",
    "\n",
    "|判斷運算符號|作用|\n",
    "|--------|---|\n",
    "|`==`|是否等於|\n",
    "|`!=`|是否不等於|\n",
    "|`>`|是否大於|\n",
    "|`<`|是否小於|\n",
    "|`>=`|是否大於等於|\n",
    "|`<=`|是否小於等於|\n",
    "|`in`|是否包含於|\n",
    "|`not in`|是否不包含於|\n",
    "|`and`|判斷兩側的條件是否都為 `True`|\n",
    "|`or`|判斷兩側的條件是否至少有一側為 `True`|\n",
    "|`not`|反轉布林的 `True` 或 `False`|"
   ]
  },
  {
   "cell_type": "code",
   "execution_count": null,
   "metadata": {
    "collapsed": false
   },
   "outputs": [],
   "source": [
    "type(True)"
   ]
  },
  {
   "cell_type": "code",
   "execution_count": null,
   "metadata": {
    "collapsed": false
   },
   "outputs": [],
   "source": [
    "type(False)"
   ]
  },
  {
   "cell_type": "code",
   "execution_count": null,
   "metadata": {
    "collapsed": false
   },
   "outputs": [],
   "source": [
    "8 == 7"
   ]
  },
  {
   "cell_type": "code",
   "execution_count": null,
   "metadata": {
    "collapsed": false
   },
   "outputs": [],
   "source": [
    "print(True and True)\n",
    "print(True and False)\n",
    "print(False and False)"
   ]
  },
  {
   "cell_type": "code",
   "execution_count": null,
   "metadata": {
    "collapsed": false
   },
   "outputs": [],
   "source": [
    "print(True or True)\n",
    "print(True or False)\n",
    "print(False or False)"
   ]
  },
  {
   "cell_type": "markdown",
   "metadata": {},
   "source": [
    "### str\n",
    "\n",
    "- 何時使用單引號（`'`）何時使用雙引號（`\"`）\n",
    "- 如何善用跳脫符號 `\\`"
   ]
  },
  {
   "cell_type": "code",
   "execution_count": null,
   "metadata": {
    "collapsed": false
   },
   "outputs": [],
   "source": [
    "my_name = 'Tony Kuo'\n",
    "type(my_name)"
   ]
  },
  {
   "cell_type": "code",
   "execution_count": null,
   "metadata": {
    "collapsed": false
   },
   "outputs": [],
   "source": [
    "mcd = \"I'm loving it!\"\n",
    "print(mcd)"
   ]
  },
  {
   "cell_type": "code",
   "execution_count": null,
   "metadata": {
    "collapsed": false
   },
   "outputs": [],
   "source": [
    "mcd = 'I\\'m loving it!'\n",
    "print(mcd)"
   ]
  },
  {
   "cell_type": "markdown",
   "metadata": {},
   "source": [
    "### 轉換變數類型\n",
    "\n",
    "- `float()`：轉換變數類型為 float\n",
    "- `int()`：轉換變數類型為 int\n",
    "- `complex()`：轉換變數類型為 complex\n",
    "- `bool()`：轉換變數類型為 bool\n",
    "- `str()`：轉換變數類型為 str"
   ]
  },
  {
   "cell_type": "code",
   "execution_count": null,
   "metadata": {
    "collapsed": false
   },
   "outputs": [],
   "source": [
    "float(\"87\")"
   ]
  },
  {
   "cell_type": "code",
   "execution_count": null,
   "metadata": {
    "collapsed": false
   },
   "outputs": [],
   "source": [
    "int(True)"
   ]
  },
  {
   "cell_type": "code",
   "execution_count": null,
   "metadata": {
    "collapsed": false
   },
   "outputs": [],
   "source": [
    "int(False)"
   ]
  },
  {
   "cell_type": "markdown",
   "metadata": {},
   "source": [
    "### 帶有格式的 print\n",
    "\n",
    "- `%s`：文字\n",
    "- `%f`：浮點數\n",
    "- `%i`：整數"
   ]
  },
  {
   "cell_type": "code",
   "execution_count": null,
   "metadata": {
    "collapsed": false
   },
   "outputs": [],
   "source": [
    "pi = 3.14159\n",
    "print(pi)"
   ]
  },
  {
   "cell_type": "code",
   "execution_count": null,
   "metadata": {
    "collapsed": false
   },
   "outputs": [],
   "source": [
    "print(\"%s\" % pi)\n",
    "print(\"%.2f\" % pi)\n",
    "print(\"%i\" % pi)"
   ]
  },
  {
   "cell_type": "markdown",
   "metadata": {},
   "source": [
    "### BMI 計算機\n",
    "\n",
    "- 用 `input()` 函數收集使用者輸入的身高與體重\n",
    "- 用 `float()` 函數將使用者輸入的身高與體重轉換成浮點數\n",
    "- 用帶有格式的 `print()` 將身高、體重與 BMI 印出"
   ]
  },
  {
   "cell_type": "code",
   "execution_count": null,
   "metadata": {
    "collapsed": false
   },
   "outputs": [],
   "source": [
    "my_weight = input(\"請輸入您的體重（kg）：\")"
   ]
  },
  {
   "cell_type": "code",
   "execution_count": null,
   "metadata": {
    "collapsed": false
   },
   "outputs": [],
   "source": [
    "print(my_weight)\n",
    "print(type(my_weight))"
   ]
  },
  {
   "cell_type": "code",
   "execution_count": null,
   "metadata": {
    "collapsed": true
   },
   "outputs": [],
   "source": [
    "# 在這裡寫出您的答案，印出類似下方的輸出\n"
   ]
  },
  {
   "cell_type": "code",
   "execution_count": null,
   "metadata": {
    "collapsed": false
   },
   "outputs": [],
   "source": []
  },
  {
   "cell_type": "markdown",
   "metadata": {
    "collapsed": true
   },
   "source": [
    "## 資料結構\n",
    "\n",
    "- 原生資料結構\n",
    "    - list\n",
    "    - tuple\n",
    "    - dict\n",
    "\n",
    "- 套件資料結構\n",
    "    - ndarray\n",
    "    - series\n",
    "    - data frame\n",
    "    - panel"
   ]
  },
  {
   "cell_type": "markdown",
   "metadata": {
    "collapsed": true
   },
   "source": [
    "### list\n",
    "\n",
    "- 建立時使用 [] 中括號\n",
    "- 利用索引值（由 0 開始）選出裡面的元素\n",
    "- 可以容納不同變數類型"
   ]
  },
  {
   "cell_type": "code",
   "execution_count": null,
   "metadata": {
    "collapsed": false
   },
   "outputs": [],
   "source": [
    "# seasons\n",
    "seasons = [\"Spring\", \"Summer\", \"Autumn\", \"Winter\"]\n",
    "type(seasons)"
   ]
  },
  {
   "cell_type": "code",
   "execution_count": null,
   "metadata": {
    "collapsed": false
   },
   "outputs": [],
   "source": [
    "# indexing\n",
    "print(seasons[0])\n",
    "print(seasons[2])"
   ]
  },
  {
   "cell_type": "code",
   "execution_count": null,
   "metadata": {
    "collapsed": false
   },
   "outputs": [],
   "source": [
    "# special indexing\n",
    "print(seasons[-1])\n",
    "print(seasons[:2])\n",
    "print(seasons[1:])"
   ]
  },
  {
   "cell_type": "code",
   "execution_count": null,
   "metadata": {
    "collapsed": false
   },
   "outputs": [],
   "source": [
    "# 不同變數類型 chicago_bulls_best\n",
    "chicago_bulls_best = [\"1995-96\", 72, 10, True]\n",
    "print(type(chicago_bulls_best[0]))\n",
    "print(type(chicago_bulls_best[1]))\n",
    "print(type(chicago_bulls_best[2]))\n",
    "print(type(chicago_bulls_best[3]))"
   ]
  },
  {
   "cell_type": "markdown",
   "metadata": {
    "collapsed": true
   },
   "source": [
    "### tuple\n",
    "\n",
    "- 建立時使用 () 小括號\n",
    "- 或者使用 `tuple()` 函數將 list 做轉換\n",
    "- 不能新增、刪除或者更新內容"
   ]
  },
  {
   "cell_type": "code",
   "execution_count": null,
   "metadata": {
    "collapsed": false
   },
   "outputs": [],
   "source": [
    "seasons_tuple = (\"Spring\", \"Summer\", \"Autumn\")\n",
    "type(seasons_tuple)"
   ]
  },
  {
   "cell_type": "code",
   "execution_count": null,
   "metadata": {
    "collapsed": false
   },
   "outputs": [],
   "source": [
    "seasons_lst = [\"Spring\", \"Summer\", \"Autumn\"]\n",
    "seasons_tuple = tuple(seasons_lst)\n",
    "type(seasons_tuple)"
   ]
  },
  {
   "cell_type": "code",
   "execution_count": null,
   "metadata": {
    "collapsed": false
   },
   "outputs": [],
   "source": [
    "seasons_lst.append(\"Winter\")\n",
    "print(seasons_lst)"
   ]
  },
  {
   "cell_type": "code",
   "execution_count": null,
   "metadata": {
    "collapsed": false
   },
   "outputs": [],
   "source": [
    "seasons_tuple.append(\"Winter\")\n",
    "print(seasons_tuple)"
   ]
  },
  {
   "cell_type": "markdown",
   "metadata": {
    "collapsed": true
   },
   "source": [
    "### dict\n",
    "\n",
    "- 使用鍵（Key）來選出值（Value）的資料結構\n",
    "- 建立時使用 {} 大括號"
   ]
  },
  {
   "cell_type": "code",
   "execution_count": null,
   "metadata": {
    "collapsed": false
   },
   "outputs": [],
   "source": [
    "chicago_bulls_dict = {\n",
    "    \"season\": \"1995-95\",\n",
    "    \"wins\": 72,\n",
    "    \"losses\": 10,\n",
    "    \"is_champion\": True\n",
    "}\n",
    "type(chicago_bulls_dict)"
   ]
  },
  {
   "cell_type": "code",
   "execution_count": null,
   "metadata": {
    "collapsed": false
   },
   "outputs": [],
   "source": [
    "print(chicago_bulls_dict[\"season\"])\n",
    "print(chicago_bulls_dict[\"wins\"])\n",
    "print(chicago_bulls_dict[\"losses\"])\n",
    "print(chicago_bulls_dict[\"is_champion\"])"
   ]
  },
  {
   "cell_type": "markdown",
   "metadata": {
    "collapsed": true
   },
   "source": [
    "### 選出 Chandler Bing（練習）\n",
    "\n",
    "- 建立一個 dict 儲存以下的資訊\n",
    "- 從建立好的 dict 中選出 Chandler Bing\n",
    "\n",
    "```python\n",
    "genre = \"SitCom\"\n",
    "seasons = 10\n",
    "episodes = 236\n",
    "characters = [\"Rachel Green\", \"Monica Geller\", \"Phoebe Buffay\", \"Joey Tribbiani\", \"Chandler Bing\", \"Ross Geller\"]\n",
    "```"
   ]
  },
  {
   "cell_type": "code",
   "execution_count": null,
   "metadata": {
    "collapsed": true
   },
   "outputs": [],
   "source": [
    "# 在這裡寫出您的答案，從您建立出的 dict 中選出 Chandler Bing\n"
   ]
  },
  {
   "cell_type": "code",
   "execution_count": null,
   "metadata": {
    "collapsed": false
   },
   "outputs": [],
   "source": []
  },
  {
   "cell_type": "markdown",
   "metadata": {},
   "source": [
    "### What is Chandler Bing's job?\n",
    "\n",
    "![]()"
   ]
  },
  {
   "cell_type": "markdown",
   "metadata": {},
   "source": [
    "![](img/chandler_job.png)"
   ]
  },
  {
   "cell_type": "markdown",
   "metadata": {},
   "source": [
    "## 流程控制\n",
    "\n",
    "- 依據不同條件，執行對應的程式分支\n",
    "- 像是：\n",
    "    - 天氣好出門運動，天氣差去電影院\n",
    "    - 對應不同 BMI 的數值，印出體重描述"
   ]
  },
  {
   "cell_type": "markdown",
   "metadata": {},
   "source": [
    "### 流程控制的結構\n",
    "\n",
    "- 兩個分支\n",
    "\n",
    "```python\n",
    "if 條件一:\n",
    "    # 分支一\n",
    "else:\n",
    "    # 分支二\n",
    "```\n",
    "\n",
    "- 三個（或以上）分支\n",
    "\n",
    "```python\n",
    "if 條件一:\n",
    "    # 分支一\n",
    "elif 條件二:\n",
    "    # 分支二\n",
    "elif 條件三:\n",
    "    # 分支三\n",
    "else:\n",
    "    # 分支四\n",
    "```"
   ]
  },
  {
   "cell_type": "markdown",
   "metadata": {},
   "source": [
    "### 流程控制：if-else\n",
    "\n",
    "- 晴天去戶外運動\n",
    "- 多雲或下雨則去電影院"
   ]
  },
  {
   "cell_type": "code",
   "execution_count": null,
   "metadata": {
    "collapsed": false
   },
   "outputs": [],
   "source": [
    "from random import choice\n",
    "\n",
    "weathers = [\"晴天\", \"多雲\", \"下雨\"]\n",
    "today = choice(weathers)\n",
    "\n",
    "if today == \"晴天\":\n",
    "    print(\"天氣是%s，去戶外運動\" % today)\n",
    "else:\n",
    "    print(\"天氣是%s，去電影院\" % today)"
   ]
  },
  {
   "cell_type": "markdown",
   "metadata": {},
   "source": [
    "### 流程控制：if-elif-else\n",
    "\n",
    "- 晴天去戶外運動\n",
    "- 多雲去健身房\n",
    "- 下雨去電影院"
   ]
  },
  {
   "cell_type": "code",
   "execution_count": null,
   "metadata": {
    "collapsed": false
   },
   "outputs": [],
   "source": [
    "weathers = [\"晴天\", \"多雲\", \"下雨\"]\n",
    "today = choice(weathers)\n",
    "\n",
    "if today == \"晴天\":\n",
    "    print(\"天氣是%s，去戶外運動\" % today)\n",
    "elif today == \"多雲\":\n",
    "    print(\"天氣是%s，去健身房\" % today)\n",
    "else:\n",
    "    print(\"天氣是%s，去電影院\" % today)"
   ]
  },
  {
   "cell_type": "markdown",
   "metadata": {},
   "source": [
    "### BMI 計算機（練習）\n",
    "\n",
    "- 用 input() 函數收集使用者輸入的身高與體重\n",
    "- 用 float() 函數將使用者輸入的身高與體重轉換成浮點數\n",
    "- 依照 BMI 數值給予**過輕**、**正常**與**過重**這三個分類\n",
    "- 用帶有格式的 print() 將 BMI 與體重分類印出"
   ]
  },
  {
   "cell_type": "code",
   "execution_count": null,
   "metadata": {
    "collapsed": false
   },
   "outputs": [],
   "source": [
    "# BMI < 18.5 為過輕\n",
    "# 18.5 <= BMI <=25 為正常\n",
    "# BMI > 25 為過重\n",
    "# 在這裡寫出您的答案\n"
   ]
  },
  {
   "cell_type": "code",
   "execution_count": null,
   "metadata": {
    "collapsed": false
   },
   "outputs": [],
   "source": []
  },
  {
   "cell_type": "markdown",
   "metadata": {
    "collapsed": true
   },
   "source": [
    "## 迴圈\n",
    "\n",
    "- for 迴圈\n",
    "- while 迴圈"
   ]
  },
  {
   "cell_type": "code",
   "execution_count": null,
   "metadata": {
    "collapsed": false
   },
   "outputs": [],
   "source": [
    "weekdays = [\"Sunday\", \"Monday\", \"Tuesday\", \"Wednesday\", \"Thursday\", \"Friday\", \"Saturday\"]\n",
    "\n",
    "print(weekdays[0])\n",
    "print(weekdays[1])\n",
    "print(weekdays[2])\n",
    "print(weekdays[3])\n",
    "print(weekdays[4])\n",
    "print(weekdays[5])\n",
    "print(weekdays[6])"
   ]
  },
  {
   "cell_type": "markdown",
   "metadata": {},
   "source": [
    "### for 迴圈的結構\n",
    "\n",
    "```python\n",
    "for iterator in sequence:\n",
    "    # 在每次迭代時做什麼事\n",
    "```\n",
    "\n",
    "- 宣告迴圈的種類\n",
    "- 宣告一個 iterator\n",
    "- 宣告一個迴圈要運作的序列\n",
    "- 在縮排中宣告每一次迭代要做什麼事"
   ]
  },
  {
   "cell_type": "code",
   "execution_count": null,
   "metadata": {
    "collapsed": false
   },
   "outputs": [],
   "source": [
    "# iterator 為文字\n",
    "for weekday in weekdays:\n",
    "    print(weekday)"
   ]
  },
  {
   "cell_type": "code",
   "execution_count": null,
   "metadata": {
    "collapsed": false
   },
   "outputs": [],
   "source": [
    "# iterator 為索引值\n",
    "for i in range(7):\n",
    "    print(weekdays[i])"
   ]
  },
  {
   "cell_type": "markdown",
   "metadata": {},
   "source": [
    "### 因數分解（練習）\n",
    "\n",
    "- 把所有可以將 87 整除的因數找出來"
   ]
  },
  {
   "cell_type": "code",
   "execution_count": null,
   "metadata": {
    "collapsed": false
   },
   "outputs": [],
   "source": [
    "# 在這裡寫出您的答案\n"
   ]
  },
  {
   "cell_type": "code",
   "execution_count": null,
   "metadata": {
    "collapsed": false
   },
   "outputs": [],
   "source": []
  },
  {
   "cell_type": "markdown",
   "metadata": {},
   "source": [
    "### while 迴圈的結構\n",
    "\n",
    "```python\n",
    "while 條件判斷:\n",
    "    # 在每次迭代時做什麼事\n",
    "```\n",
    "\n",
    "- 宣告迴圈的種類\n",
    "- 宣告一個條件判斷\n",
    "- 在縮排中宣告當條件判斷結果為 `True` 要做什麼事"
   ]
  },
  {
   "cell_type": "code",
   "execution_count": null,
   "metadata": {
    "collapsed": false
   },
   "outputs": [],
   "source": [
    "weekdays = [\"Sunday\", \"Monday\", \"Tuesday\", \"Wednesday\", \"Thursday\", \"Friday\", \"Saturday\"]\n",
    "i = 0\n",
    "while i < 7:\n",
    "    print(weekdays[i])\n",
    "    i += 1"
   ]
  },
  {
   "cell_type": "markdown",
   "metadata": {},
   "source": [
    "### while 迴圈：投擲硬幣遊戲（練習）\n",
    "\n",
    "- 投擲一枚硬幣，總計有三次正面才能停止\n",
    "- 輸出每次投擲的紀錄\n",
    "- 輸出總共投了幾次"
   ]
  },
  {
   "cell_type": "code",
   "execution_count": null,
   "metadata": {
    "collapsed": false
   },
   "outputs": [],
   "source": [
    "# 在這裡寫出您的答案\n"
   ]
  },
  {
   "cell_type": "code",
   "execution_count": null,
   "metadata": {
    "collapsed": false
   },
   "outputs": [],
   "source": []
  },
  {
   "cell_type": "markdown",
   "metadata": {},
   "source": [
    "## 自訂函數"
   ]
  },
  {
   "cell_type": "markdown",
   "metadata": {},
   "source": [
    "### 自訂函數：結構\n",
    "\n",
    "```python\n",
    "def function_name(輸入一, 輸入二, ..., 參數一, 參數二, ...):\n",
    "    '''\n",
    "    Docstrings, 撰寫函數的說明文件\n",
    "    '''\n",
    "    \n",
    "    # 將輸入與參數整合為輸出\n",
    "    \n",
    "    return 輸出\n",
    "```"
   ]
  },
  {
   "cell_type": "code",
   "execution_count": null,
   "metadata": {
    "collapsed": false
   },
   "outputs": [],
   "source": [
    "import math\n",
    "\n",
    "# 自訂函數：圓形計算機\n",
    "def circle_cal(r, is_area):\n",
    "    '''\n",
    "    輸入半徑可以回傳圓面積或周長。\n",
    "    當 is_area 為 True，回傳圓面積；若為 False，回傳圓周長。\n",
    "    '''\n",
    "    if (is_area == True):\n",
    "        return math.pi * r**2\n",
    "    else:\n",
    "        return 2 * math.pi * r\n",
    "    \n",
    "#help(circle_cal)\n",
    "radius = 3\n",
    "print(circle_cal(3, is_area = True))\n",
    "print(circle_cal(3, is_area = False))"
   ]
  },
  {
   "cell_type": "markdown",
   "metadata": {},
   "source": [
    "### 自訂函數：預設參數\n",
    "\n",
    "- 為參數設定一個預設值"
   ]
  },
  {
   "cell_type": "code",
   "execution_count": null,
   "metadata": {
    "collapsed": false
   },
   "outputs": [],
   "source": [
    "# 呼叫 circle_cal 時沒有輸入參數\n",
    "radius = 5\n",
    "print(circle_cal(radius))"
   ]
  },
  {
   "cell_type": "code",
   "execution_count": null,
   "metadata": {
    "collapsed": false
   },
   "outputs": [],
   "source": [
    "# 自訂函數：圓形計算機\n",
    "def circle_cal(r, is_area = True):\n",
    "    '''\n",
    "    輸入半徑可以回傳圓面積或周長。\n",
    "    當 is_area 為 True，回傳圓面積；若為 False，回傳圓周長。\n",
    "    如果使用者沒有輸入參數 is_area，則預設回傳面積。\n",
    "    '''\n",
    "    if (is_area == True):\n",
    "        return math.pi * r**2\n",
    "    else:\n",
    "        return 2 * math.pi * r\n",
    "\n",
    "radius = 5\n",
    "print(circle_cal(radius))"
   ]
  },
  {
   "cell_type": "markdown",
   "metadata": {},
   "source": [
    "### 自訂函數：多重輸出\n",
    "\n",
    "- 在 `return` 之後用逗號將多個輸出隔開\n",
    "- 將多個輸出儲存在 tuple 中回傳"
   ]
  },
  {
   "cell_type": "code",
   "execution_count": null,
   "metadata": {
    "collapsed": false
   },
   "outputs": [],
   "source": [
    "# 自訂函數：圓形計算機\n",
    "def circle_cal(r):\n",
    "    area = math.pi * r**2\n",
    "    circum = 2 * math.pi * r\n",
    "    return area, circum\n",
    "\n",
    "radius = 3\n",
    "#print(circle_cal(radius))\n",
    "circle_area, circle_circum = circle_cal(radius)\n",
    "print(circle_area)\n",
    "print(circle_circum)"
   ]
  },
  {
   "cell_type": "markdown",
   "metadata": {},
   "source": [
    "### 自訂函數：is_prime() 函數（練習）\n",
    "\n",
    "- 輸入一個正整數，如果為質數回傳 `True`，否則回傳 `False`\n",
    "\n",
    "```python\n",
    "is_prime(87)\n",
    "# False\n",
    "is_prime(89)\n",
    "# True\n",
    "```"
   ]
  },
  {
   "cell_type": "code",
   "execution_count": null,
   "metadata": {
    "collapsed": false
   },
   "outputs": [],
   "source": [
    "# 在這裡寫出您的答案\n"
   ]
  },
  {
   "cell_type": "markdown",
   "metadata": {},
   "source": [
    "### 自訂函數：lambda 函數\n",
    "\n",
    "- 又稱匿名函數\n",
    "- 不需要 def、return 的敘述\n",
    "\n",
    "```python\n",
    "lambda 輸入: 回傳物件\n",
    "```"
   ]
  },
  {
   "cell_type": "code",
   "execution_count": null,
   "metadata": {
    "collapsed": false
   },
   "outputs": [],
   "source": [
    "def squared(x):\n",
    "    return x**2\n",
    "print(squared(3))"
   ]
  },
  {
   "cell_type": "code",
   "execution_count": null,
   "metadata": {
    "collapsed": false
   },
   "outputs": [],
   "source": [
    "squared = lambda x:x**2\n",
    "print(squared(3))"
   ]
  },
  {
   "cell_type": "markdown",
   "metadata": {},
   "source": [
    "### 自訂函數：lambda 函數\n",
    "\n",
    "- 常與內建的兩個函數一起使用：\n",
    "    - filter()\n",
    "    - map()"
   ]
  },
  {
   "cell_type": "code",
   "execution_count": 9,
   "metadata": {
    "collapsed": false
   },
   "outputs": [
    {
     "data": {
      "text/plain": [
       "[2, 4, 6, 8, 10]"
      ]
     },
     "execution_count": 9,
     "metadata": {},
     "output_type": "execute_result"
    }
   ],
   "source": [
    "list(filter(lambda x : x % 2==0, range(1, 11)))"
   ]
  },
  {
   "cell_type": "code",
   "execution_count": 12,
   "metadata": {
    "collapsed": false
   },
   "outputs": [
    {
     "data": {
      "text/plain": [
       "[1, 4, 9, 16, 25, 36, 49, 64, 81, 100]"
      ]
     },
     "execution_count": 12,
     "metadata": {},
     "output_type": "execute_result"
    }
   ],
   "source": [
    "list(map(lambda x : x**2, range(1, 11)))"
   ]
  },
  {
   "cell_type": "markdown",
   "metadata": {},
   "source": [
    "### 自訂函數：count_primes() 函數（練習）\n",
    "\n",
    "- 使用者輸入兩個正整數，函數就會回傳介於兩個正整數之間的質數個數\n",
    "\n",
    "```python\n",
    "count_primes(3, 7)\n",
    "# 3\n",
    "count_primes(3, 11)\n",
    "# 4\n",
    "```"
   ]
  },
  {
   "cell_type": "code",
   "execution_count": null,
   "metadata": {
    "collapsed": false
   },
   "outputs": [],
   "source": [
    "# 在這裡寫出您的答案\n"
   ]
  }
 ],
 "metadata": {
  "kernelspec": {
   "display_name": "Python 3",
   "language": "python",
   "name": "python3"
  },
  "language_info": {
   "codemirror_mode": {
    "name": "ipython",
    "version": 3
   },
   "file_extension": ".py",
   "mimetype": "text/x-python",
   "name": "python",
   "nbconvert_exporter": "python",
   "pygments_lexer": "ipython3",
   "version": "3.6.0"
  }
 },
 "nbformat": 4,
 "nbformat_minor": 2
}
