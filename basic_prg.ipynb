{
 "cells": [
  {
   "cell_type": "markdown",
   "metadata": {},
   "source": [
    "# 基礎編程\n",
    "\n",
    "- 賦值、印出與註解\n",
    "- 變數類型\n",
    "- 資料結構\n",
    "- 流程控制\n",
    "- 迴圈\n",
    "- 函數"
   ]
  },
  {
   "cell_type": "markdown",
   "metadata": {},
   "source": [
    "### 賦值、印出與註解"
   ]
  },
  {
   "cell_type": "code",
   "execution_count": 4,
   "metadata": {
    "collapsed": false
   },
   "outputs": [
    {
     "name": "stdout",
     "output_type": "stream",
     "text": [
      "Tony Kuo\n"
     ]
    }
   ],
   "source": [
    "# 單行註解\n",
    "'''\n",
    "多行的\n",
    "註解\n",
    "'''\n",
    "my_name = \"Tony Kuo\"\n",
    "print(my_name)"
   ]
  },
  {
   "cell_type": "markdown",
   "metadata": {},
   "source": [
    "## 變數類型\n",
    "\n",
    "- int\n",
    "- float\n",
    "- complex"
   ]
  },
  {
   "cell_type": "code",
   "execution_count": 6,
   "metadata": {
    "collapsed": false
   },
   "outputs": [
    {
     "name": "stdout",
     "output_type": "stream",
     "text": [
      "<class 'int'>\n",
      "<class 'float'>\n",
      "<class 'complex'>\n"
     ]
    }
   ],
   "source": [
    "my_int = 87\n",
    "my_float = 8.7\n",
    "my_complex = 8 + 7j\n",
    "\n",
    "print(type(my_int))\n",
    "print(type(my_float))\n",
    "print(type(my_complex))"
   ]
  },
  {
   "cell_type": "markdown",
   "metadata": {},
   "source": [
    "## 運算符號\n",
    "\n",
    "|運算符號|意義|\n",
    "|----------|---|\n",
    "|`+`|加法|\n",
    "|`-`|減法|\n",
    "|`*`|乘法|\n",
    "|`/`|除法|\n",
    "|`**`|次方|\n",
    "|`%`|回傳除法結果的餘數部分|\n",
    "|`//`|回傳除法結果的整數部分|"
   ]
  },
  {
   "cell_type": "code",
   "execution_count": null,
   "metadata": {
    "collapsed": true
   },
   "outputs": [],
   "source": []
  },
  {
   "cell_type": "markdown",
   "metadata": {},
   "source": [
    "## bool 與判斷符號\n",
    "\n",
    "|判斷運算符號|作用|\n",
    "|--------|---|\n",
    "|`==`|是否等於|\n",
    "|`!=`|是否不等於|\n",
    "|`>`|是否大於|\n",
    "|`<`|是否小於|\n",
    "|`>=`|是否大於等於|\n",
    "|`<=`|是否小於等於|\n",
    "|`in`|是否包含於|\n",
    "|`not in`|是否不包含於|\n",
    "|`and`|判斷兩側的條件是否都為 `True`|\n",
    "|`or`|判斷兩側的條件是否至少有一側為 `True`|\n",
    "|`not`|反轉布林的 `True` 或 `False`|"
   ]
  },
  {
   "cell_type": "code",
   "execution_count": null,
   "metadata": {
    "collapsed": true
   },
   "outputs": [],
   "source": []
  },
  {
   "cell_type": "markdown",
   "metadata": {},
   "source": [
    "## 變數類型：str\n",
    "\n",
    "- 何時使用單引號（`'`）何時使用雙引號（`\"`）\n",
    "- 如何善用跳脫符號 `\\`"
   ]
  },
  {
   "cell_type": "code",
   "execution_count": null,
   "metadata": {
    "collapsed": true
   },
   "outputs": [],
   "source": []
  },
  {
   "cell_type": "markdown",
   "metadata": {},
   "source": [
    "## 轉換變數類型\n",
    "\n",
    "- `float()`：轉換變數類型為 float\n",
    "- `int()`：轉換變數類型為 int\n",
    "- `complex()`：轉換變數類型為 complex\n",
    "- `bool()`：轉換變數類型為 bool\n",
    "- `str()`：轉換變數類型為 str"
   ]
  },
  {
   "cell_type": "code",
   "execution_count": null,
   "metadata": {
    "collapsed": true
   },
   "outputs": [],
   "source": []
  },
  {
   "cell_type": "markdown",
   "metadata": {},
   "source": [
    "## 帶有格式的 print\n",
    "\n",
    "- `%s`：文字\n",
    "- `%f`：浮點數\n",
    "- `%i`：整數"
   ]
  },
  {
   "cell_type": "code",
   "execution_count": null,
   "metadata": {
    "collapsed": true
   },
   "outputs": [],
   "source": []
  },
  {
   "cell_type": "markdown",
   "metadata": {},
   "source": [
    "## BMI 計算機\n",
    "\n",
    "- `input()` 收集使用者輸入\n",
    "- `float()` 將使用者輸入轉換成浮點數\n",
    "- 印出類似這樣的文字："
   ]
  },
  {
   "cell_type": "code",
   "execution_count": 12,
   "metadata": {
    "collapsed": false
   },
   "outputs": [
    {
     "name": "stdout",
     "output_type": "stream",
     "text": [
      "我的身高是 172.0 公分，體重是 66.0 公斤，BMI 為 22.31。\n"
     ]
    }
   ],
   "source": [
    "print(\"我的身高是 %.1f 公分，體重是 %.1f 公斤，BMI 為 %.2f。\" % (172, 66, 66/(172/100)**2))"
   ]
  }
 ],
 "metadata": {
  "kernelspec": {
   "display_name": "Python 3",
   "language": "python",
   "name": "python3"
  },
  "language_info": {
   "codemirror_mode": {
    "name": "ipython",
    "version": 3
   },
   "file_extension": ".py",
   "mimetype": "text/x-python",
   "name": "python",
   "nbconvert_exporter": "python",
   "pygments_lexer": "ipython3",
   "version": "3.6.0"
  }
 },
 "nbformat": 4,
 "nbformat_minor": 2
}
