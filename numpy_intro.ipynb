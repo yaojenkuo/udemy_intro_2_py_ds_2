{
 "cells": [
  {
   "cell_type": "markdown",
   "metadata": {},
   "source": [
    "# NumPy\n",
    "\n",
    "- 將中長跑距離由公里換算為英里\n",
    "- 建立 ndarray 的方法\n",
    "- ndarray 的特性\n",
    "- 選擇 ndarray 的元素\n",
    "- 常用的屬性\n",
    "- 常用的方法\n",
    "- ndarray 與基礎線性代數"
   ]
  },
  {
   "cell_type": "markdown",
   "metadata": {},
   "source": [
    "## 將中長跑距離由公里換算為英里\n",
    "\n",
    "- 想把這幾個距離從公里換算成英里\n",
    "\n",
    "```python\n",
    "km_lst = [1.6, 3, 5, 10, 21, 42.195]\n",
    "km_to_mile = 0.62137\n",
    "```"
   ]
  },
  {
   "cell_type": "markdown",
   "metadata": {},
   "source": [
    "### 使用 for 迴圈"
   ]
  },
  {
   "cell_type": "code",
   "execution_count": 5,
   "metadata": {
    "collapsed": false
   },
   "outputs": [
    {
     "name": "stdout",
     "output_type": "stream",
     "text": [
      "[0.994192, 1.86411, 3.1068499999999997, 6.213699999999999, 13.04877, 26.21870715]\n"
     ]
    }
   ],
   "source": [
    "km_lst = [1.6, 3, 5, 10, 21, 42.195]\n",
    "km_to_mile = 0.62137\n",
    "mile_lst = []\n",
    "for km in km_lst:\n",
    "    mile_lst.append(km * km_to_mile)\n",
    "print(mile_lst)"
   ]
  },
  {
   "cell_type": "markdown",
   "metadata": {},
   "source": [
    "### 使用 map 與 lambda 函數"
   ]
  },
  {
   "cell_type": "code",
   "execution_count": 7,
   "metadata": {
    "collapsed": false
   },
   "outputs": [
    {
     "name": "stdout",
     "output_type": "stream",
     "text": [
      "[0.994192, 1.86411, 3.1068499999999997, 6.213699999999999, 13.04877, 26.21870715]\n"
     ]
    }
   ],
   "source": [
    "mile_lst = map(lambda x : x * km_to_mile, km_lst)\n",
    "print(list(mile_lst))"
   ]
  },
  {
   "cell_type": "markdown",
   "metadata": {},
   "source": [
    "### 載入 NumPy"
   ]
  },
  {
   "cell_type": "code",
   "execution_count": 12,
   "metadata": {
    "collapsed": false
   },
   "outputs": [
    {
     "name": "stdout",
     "output_type": "stream",
     "text": [
      "[  0.994192     1.86411      3.10685      6.2137      13.04877     26.21870715]\n"
     ]
    }
   ],
   "source": [
    "import numpy as np\n",
    "\n",
    "km_lst = [1.6, 3, 5, 10, 21, 42.195]\n",
    "km_to_mile = 0.62137\n",
    "km_arr = np.array(km_lst)\n",
    "#print(type(km_arr))\n",
    "print(km_arr * km_to_mile)"
   ]
  },
  {
   "cell_type": "markdown",
   "metadata": {},
   "source": [
    "### 載入 NumPy 中的一個方法"
   ]
  },
  {
   "cell_type": "code",
   "execution_count": 14,
   "metadata": {
    "collapsed": false
   },
   "outputs": [
    {
     "name": "stdout",
     "output_type": "stream",
     "text": [
      "<class 'numpy.ndarray'>\n"
     ]
    }
   ],
   "source": [
    "from numpy import array\n",
    "\n",
    "km_arr = array(km_lst)\n",
    "print(type(km_arr))"
   ]
  },
  {
   "cell_type": "markdown",
   "metadata": {},
   "source": [
    "### 計算這五個人的 BMI\n",
    "\n",
    "```python\n",
    "heights = [173, 168, 171, 189, 179]\n",
    "weights = [65.4, 59.2, 63.6, 88.4, 68.7]\n",
    "```"
   ]
  },
  {
   "cell_type": "code",
   "execution_count": null,
   "metadata": {
    "collapsed": true
   },
   "outputs": [],
   "source": [
    "# 在這裡寫出您的答案\n"
   ]
  },
  {
   "cell_type": "markdown",
   "metadata": {},
   "source": [
    "## 建立 ndarray 的方法"
   ]
  },
  {
   "cell_type": "code",
   "execution_count": null,
   "metadata": {
    "collapsed": true
   },
   "outputs": [],
   "source": []
  },
  {
   "cell_type": "code",
   "execution_count": null,
   "metadata": {
    "collapsed": true
   },
   "outputs": [],
   "source": []
  }
 ],
 "metadata": {
  "kernelspec": {
   "display_name": "Python 3",
   "language": "python",
   "name": "python3"
  },
  "language_info": {
   "codemirror_mode": {
    "name": "ipython",
    "version": 3
   },
   "file_extension": ".py",
   "mimetype": "text/x-python",
   "name": "python",
   "nbconvert_exporter": "python",
   "pygments_lexer": "ipython3",
   "version": "3.6.0"
  }
 },
 "nbformat": 4,
 "nbformat_minor": 2
}
